{
  "nbformat": 4,
  "nbformat_minor": 0,
  "metadata": {
    "colab": {
      "provenance": [],
      "authorship_tag": "ABX9TyO6bFl4m36Ndz3IJxZlShVl",
      "include_colab_link": true
    },
    "kernelspec": {
      "name": "python3",
      "display_name": "Python 3"
    },
    "language_info": {
      "name": "python"
    }
  },
  "cells": [
    {
      "cell_type": "markdown",
      "metadata": {
        "id": "view-in-github",
        "colab_type": "text"
      },
      "source": [
        "<a href=\"https://colab.research.google.com/github/Bhavithanarreddy/Bhavithanarreddy/blob/main/Assignment3.ipynb\" target=\"_parent\"><img src=\"https://colab.research.google.com/assets/colab-badge.svg\" alt=\"Open In Colab\"/></a>"
      ]
    },
    {
      "cell_type": "code",
      "execution_count": 2,
      "metadata": {
        "colab": {
          "base_uri": "https://localhost:8080/"
        },
        "id": "36rmMSb1MhEo",
        "outputId": "b0699e02-01cc-4ccb-d605-9ec05d8658b7"
      },
      "outputs": [
        {
          "output_type": "stream",
          "name": "stdout",
          "text": [
            "20\n"
          ]
        }
      ],
      "source": [
        "#Name: Bhavitha\n",
        "#GAME of \"Functions\"\n",
        "#Write a Python function to sum all the numbers in a list.\n",
        "\n",
        "def sum_list(l):\n",
        "  sum_cnt=0\n",
        "  [sum_cnt:=sum_cnt+i for i in l]\n",
        "  return sum_cnt\n",
        "\n",
        "list=[8, 2, 3, 0, 7]\n",
        "print(sum(list))"
      ]
    },
    {
      "cell_type": "code",
      "source": [
        "#Name: Bhavitha\n",
        "#String inside the function\n",
        "#Write a Python program to reverse a string.\n",
        "\n",
        "\n",
        "def rev_str(str):\n",
        "  rev_str=\"\"\n",
        "  [rev_str:=i+rev_str for i in str]\n",
        "  return rev_str\n",
        "\n",
        "\n",
        "str=\"1234abcd\"\n",
        "print(rev_str(str))\n"
      ],
      "metadata": {
        "colab": {
          "base_uri": "https://localhost:8080/"
        },
        "id": "avyEktgBM1eh",
        "outputId": "9bf18340-14a9-4973-ceb4-bf07caf6a29d"
      },
      "execution_count": 3,
      "outputs": [
        {
          "output_type": "stream",
          "name": "stdout",
          "text": [
            "dcba4321\n"
          ]
        }
      ]
    },
    {
      "cell_type": "code",
      "source": [
        "#Name: Bhavitha\n",
        "#Calculate the upper and the lower case\n",
        "#Write a Python function that accepts a string and calculate the number of upper case letters and lower case letters.\n",
        "\n",
        "def cnt_upp_low(str):\n",
        "  up_cnt=[ 1 if i.isupper() else 0 for i in str]\n",
        "  low_cnt=[ 1 if i.islower() else 0 for i in str]\n",
        "  print(f\"No. of Upper case characters:{up_cnt.count(1)}\")\n",
        "  print(f\"No. of Lower case characters:{low_cnt.count(1)}\")\n",
        "\n",
        "str=input(\"Enter a string:\")\n",
        "cnt_upp_low(str)"
      ],
      "metadata": {
        "colab": {
          "base_uri": "https://localhost:8080/"
        },
        "id": "dUQ1YhetNAsI",
        "outputId": "c077befb-18e0-4878-831e-05251f10708b"
      },
      "execution_count": 4,
      "outputs": [
        {
          "output_type": "stream",
          "name": "stdout",
          "text": [
            "Enter a string:The quick Brow Fox\n",
            "No. of Upper case characters:3\n",
            "No. of Lower case characters:12\n"
          ]
        }
      ]
    }
  ]
}