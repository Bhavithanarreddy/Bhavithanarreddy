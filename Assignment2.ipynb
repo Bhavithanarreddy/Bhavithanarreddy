{
  "nbformat": 4,
  "nbformat_minor": 0,
  "metadata": {
    "colab": {
      "provenance": [],
      "authorship_tag": "ABX9TyNoLnSjQce2c1MFYkpq8cVw",
      "include_colab_link": true
    },
    "kernelspec": {
      "name": "python3",
      "display_name": "Python 3"
    },
    "language_info": {
      "name": "python"
    }
  },
  "cells": [
    {
      "cell_type": "markdown",
      "metadata": {
        "id": "view-in-github",
        "colab_type": "text"
      },
      "source": [
        "<a href=\"https://colab.research.google.com/github/Bhavithanarreddy/Bhavithanarreddy/blob/main/Assignment2.ipynb\" target=\"_parent\"><img src=\"https://colab.research.google.com/assets/colab-badge.svg\" alt=\"Open In Colab\"/></a>"
      ]
    },
    {
      "cell_type": "code",
      "execution_count": 1,
      "metadata": {
        "colab": {
          "base_uri": "https://localhost:8080/"
        },
        "id": "6riz4UXFkMbf",
        "outputId": "b6289563-9753-4ed6-ec97-41d4873cdb0b"
      },
      "outputs": [
        {
          "output_type": "stream",
          "name": "stdout",
          "text": [
            "['phone.jpg', 'view.jpg', 'bear.jpg']\n"
          ]
        }
      ],
      "source": [
        "#Problem Statement 1: Given a list of Files\n",
        "\n",
        "filenames=['view.jpg','bear.jpg','ball.png']\n",
        "filenames.insert(0,'phone.jpg')\n",
        "filenames.pop()\n",
        "print(filenames)"
      ]
    },
    {
      "cell_type": "code",
      "source": [
        "#Problem Statement 2: Given a list of Numbers\n",
        "\n",
        "L=[1,2,3,4,5,6,7,8,9,10]\n",
        "sum=0\n",
        "Maxi=0\n",
        "for i in range(len(L)):\n",
        "  if L[i]>Maxi:\n",
        "    Maxi=L[i]\n",
        "  sum=sum+L[i]\n",
        "Mini=Maxi\n",
        "for i in range(len(L)):\n",
        "  if L[i]<Mini:\n",
        "    Mini=L[i]\n",
        "print(\"List:\",L)\n",
        "print(\"Max element is :\",Maxi)\n",
        "print(\"Min element is :\",Mini)\n",
        "print(\"Average is :\",sum/len(L))\n",
        ""
      ],
      "metadata": {
        "colab": {
          "base_uri": "https://localhost:8080/"
        },
        "id": "Q8_L6rAwl6t1",
        "outputId": "0f5a247a-36a9-437c-f064-8f0749242f91"
      },
      "execution_count": 6,
      "outputs": [
        {
          "output_type": "stream",
          "name": "stdout",
          "text": [
            "List: [1, 2, 3, 4, 5, 6, 7, 8, 9, 10]\n",
            "Max element is : 10\n",
            "Min element is : 1\n",
            "Average is : 5.5\n"
          ]
        }
      ]
    },
    {
      "cell_type": "code",
      "source": [
        "#Problem Statement 1: Print only unique\n",
        "\n",
        "L=[1,1,1,1,2,2,3,3,3,3,4,5]\n",
        "U=[]\n",
        "\n",
        "[U.append(L[i]) if L[i] not in U else \"\" for i in range(len(L))]\n",
        "print(U)"
      ],
      "metadata": {
        "colab": {
          "base_uri": "https://localhost:8080/"
        },
        "id": "OJFmmPYRmxAU",
        "outputId": "29ed8386-edee-4820-bf80-5fb90061bbad"
      },
      "execution_count": 7,
      "outputs": [
        {
          "output_type": "stream",
          "name": "stdout",
          "text": [
            "[1, 2, 3, 4, 5]\n"
          ]
        }
      ]
    },
    {
      "cell_type": "code",
      "source": [
        "#Problem Statement 2: Check if the given number exists in the list.\n",
        "\n",
        "L=[1,2,3,4,[4,3]]\n",
        "ind=0\n",
        "N=int(input(\"Enter a number to check if its exits in the list or not:\"))\n",
        "for i in range(len(L)):\n",
        "  if type(L[i])==list:\n",
        "    if N in L[i]:\n",
        "      print(\"Yes the number\",N,\"exist in List\")\n",
        "  elif N in L:\n",
        "      print(\"Yes the number\",N,\"exist in List\")\n",
        "      ind=1\n",
        "      break\n",
        "if ind==0:\n",
        "  print(\"No the number\",N,\"does not exist in List\")"
      ],
      "metadata": {
        "colab": {
          "base_uri": "https://localhost:8080/"
        },
        "id": "V9_E2-KcnQJK",
        "outputId": "0bdc918b-1ae3-4281-941f-9d0c2a4043a1"
      },
      "execution_count": 9,
      "outputs": [
        {
          "output_type": "stream",
          "name": "stdout",
          "text": [
            "Enter a number to check if its exits in the list or not:3\n",
            "Yes the number 3 exist in List\n"
          ]
        }
      ]
    },
    {
      "cell_type": "code",
      "source": [
        "#Problem statement 01: Grab only positive numbers in each nested list and put that in a new list.\n",
        "\n",
        "numbers_nested=[[1,-1,2],[0,-5,3,5,-2],[1,2,1,0,-2,-3]]\n",
        "P_list=[]\n",
        "for i in numbers_nested:\n",
        "  for j in i:\n",
        "    if j>0:\n",
        "      P_list.append(j)\n",
        "print(P_list)"
      ],
      "metadata": {
        "colab": {
          "base_uri": "https://localhost:8080/"
        },
        "id": "WswFhh1anxeb",
        "outputId": "8e04ed33-cd91-40f9-9c82-25028e0cc991"
      },
      "execution_count": 10,
      "outputs": [
        {
          "output_type": "stream",
          "name": "stdout",
          "text": [
            "[1, 2, 3, 5, 1, 2, 1]\n"
          ]
        }
      ]
    },
    {
      "cell_type": "code",
      "source": [
        "#Problem statement 02: Print the average sum of values from each inner lists and print the sum of each average.\n",
        "\n",
        "L=[[1,2,3],[4,5,6,3],[-1,-2,-10,5,8]]\n",
        "U=[]\n",
        "for i in L:\n",
        "  sum=0\n",
        "  if type(i)==list:\n",
        "    for j in i:\n",
        "      sum=sum+j\n",
        "    if sum!=0 and i==L[len(L)-1]:\n",
        "      U.append(sum/len(i))\n",
        "      print(sum,\"/\",len(i),end=\" => \",sep=\"\")\n",
        "    elif sum!=0:\n",
        "      U.append(sum/len(i))\n",
        "      print(sum,\"/\",len(i),end=\" + \",sep=\"\")\n",
        "    elif sum==0 and i==L[len(L)-1]:\n",
        "      U.append(sum)\n",
        "      print(sum,end=\" => \",sep=\"\")\n",
        "    else:\n",
        "      U.append(sum)\n",
        "      print(sum,end=\"+\",sep=\"\")\n",
        "  else:\n",
        "    U.append(i)\n",
        "    print(i,end=\" + \")\n",
        "avg_sum=0\n",
        "for i in U:\n",
        "  if i==U[len(U)-1] and i!=0:\n",
        "    print(\" + \",i,end=\" => \",sep=\"\")\n",
        "  elif i==U[len(U)-1] and i==0:\n",
        "    print(end=\" => \",sep=\"\")\n",
        "  else:\n",
        "    if i==U[0]:\n",
        "      if i%int(i)==0:\n",
        "        print(int(i),end=\" \",sep=\"\")\n",
        "      else:\n",
        "        print(i,end=\" \",sep=\"\")\n",
        "    else:\n",
        "      if i%int(i)==0:\n",
        "        print(\" + \",int(i),end=\" \",sep=\"\")\n",
        "      else:\n",
        "        print(\" + \",i,end=\" \",sep=\"\")\n",
        "  avg_sum=avg_sum+i\n",
        "print(avg_sum,sep=\"\")"
      ],
      "metadata": {
        "colab": {
          "base_uri": "https://localhost:8080/"
        },
        "id": "Cu-ql1dIn4SG",
        "outputId": "850947b8-e9a6-4e69-8ea6-ee02eb1aebe1"
      },
      "execution_count": 11,
      "outputs": [
        {
          "output_type": "stream",
          "name": "stdout",
          "text": [
            "6/3 + 18/4 + 0 => 2  + 4.5  => 6.5\n"
          ]
        }
      ]
    }
  ]
}