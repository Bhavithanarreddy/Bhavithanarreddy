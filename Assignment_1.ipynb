{
  "nbformat": 4,
  "nbformat_minor": 0,
  "metadata": {
    "colab": {
      "provenance": [],
      "authorship_tag": "ABX9TyMZ+n8Vtemka8VRRJ9dKQpx",
      "include_colab_link": true
    },
    "kernelspec": {
      "name": "python3",
      "display_name": "Python 3"
    },
    "language_info": {
      "name": "python"
    }
  },
  "cells": [
    {
      "cell_type": "markdown",
      "metadata": {
        "id": "view-in-github",
        "colab_type": "text"
      },
      "source": [
        "<a href=\"https://colab.research.google.com/github/Bhavithanarreddy/Bhavithanarreddy/blob/main/Assignment_1.ipynb\" target=\"_parent\"><img src=\"https://colab.research.google.com/assets/colab-badge.svg\" alt=\"Open In Colab\"/></a>"
      ]
    },
    {
      "cell_type": "markdown",
      "source": [
        "Problem Statement 01\n",
        "\n",
        "Write a program that takes a integer from keyboard and prints a string according the business logic given below\n",
        "\n",
        "For each multiple of 3, Print 'Fizz',\n",
        "\n",
        "For each multiple of 5, Print Fuzz\n",
        "\n",
        "For each multiple of 3 and 5 Print 'Fizz Buzz"
      ],
      "metadata": {
        "id": "wIEW3vvctnrC"
      }
    },
    {
      "cell_type": "code",
      "execution_count": 1,
      "metadata": {
        "colab": {
          "base_uri": "https://localhost:8080/"
        },
        "id": "Xk8pMCtltckv",
        "outputId": "d24c08aa-8dfc-4b49-a15e-46f5e6d68fa5"
      },
      "outputs": [
        {
          "output_type": "stream",
          "name": "stdout",
          "text": [
            "1\n",
            "2\n",
            "fizz\n",
            "4\n",
            "Fuzz\n",
            "fizz\n",
            "7\n",
            "8\n",
            "fizz\n",
            "Fuzz\n",
            "11\n",
            "fizz\n",
            "13\n",
            "14\n",
            "fizzbuzz\n",
            "16\n",
            "17\n",
            "fizz\n",
            "19\n",
            "Fuzz\n",
            "fizz\n",
            "22\n",
            "23\n",
            "fizz\n",
            "Fuzz\n",
            "26\n",
            "fizz\n",
            "28\n",
            "29\n",
            "fizzbuzz\n",
            "31\n",
            "32\n",
            "fizz\n",
            "34\n",
            "Fuzz\n",
            "fizz\n",
            "37\n",
            "38\n",
            "fizz\n",
            "Fuzz\n",
            "41\n",
            "fizz\n",
            "43\n",
            "44\n",
            "fizzbuzz\n",
            "46\n",
            "47\n",
            "fizz\n",
            "49\n"
          ]
        }
      ],
      "source": [
        "for fizzbuzz in range(1,50):\n",
        "    if fizzbuzz % 15 == 0:\n",
        "        print(\"fizzbuzz\")\n",
        "        continue\n",
        "    elif fizzbuzz % 3 ==0:\n",
        "        print(\"fizz\")\n",
        "        continue\n",
        "    elif fizzbuzz % 5 ==0:\n",
        "        print(\"Fuzz\")\n",
        "        continue\n",
        "    print(fizzbuzz)\n"
      ]
    }
  ]
}