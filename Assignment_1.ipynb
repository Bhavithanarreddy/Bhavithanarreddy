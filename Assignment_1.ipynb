{
  "nbformat": 4,
  "nbformat_minor": 0,
  "metadata": {
    "colab": {
      "provenance": [],
      "authorship_tag": "ABX9TyMXgBFJYx5ItcdQp3k5dGrA",
      "include_colab_link": true
    },
    "kernelspec": {
      "name": "python3",
      "display_name": "Python 3"
    },
    "language_info": {
      "name": "python"
    }
  },
  "cells": [
    {
      "cell_type": "markdown",
      "metadata": {
        "id": "view-in-github",
        "colab_type": "text"
      },
      "source": [
        "<a href=\"https://colab.research.google.com/github/Bhavithanarreddy/Bhavithanarreddy/blob/main/Assignment_1.ipynb\" target=\"_parent\"><img src=\"https://colab.research.google.com/assets/colab-badge.svg\" alt=\"Open In Colab\"/></a>"
      ]
    },
    {
      "cell_type": "markdown",
      "source": [
        "Problem Statement 01\n",
        "\n",
        "Write a program that takes a integer from keyboard and prints a string according the business logic given below\n",
        "\n",
        "1. For each multiple of 3, Print 'Fizz',\n",
        "\n",
        "2. For each multiple of 5, Print Fuzz\n",
        "\n",
        "3. For each multiple of 3 and 5 Print 'Fizz Buzz"
      ],
      "metadata": {
        "id": "qXQQVwKPsBqh"
      }
    },
    {
      "cell_type": "code",
      "execution_count": 1,
      "metadata": {
        "colab": {
          "base_uri": "https://localhost:8080/"
        },
        "id": "Qrxvbtn4rlXu",
        "outputId": "172d05b8-d839-4992-88d2-de3e1f87a916"
      },
      "outputs": [
        {
          "output_type": "stream",
          "name": "stdout",
          "text": [
            "1\n",
            "2\n",
            "fizz\n",
            "4\n",
            "Fuzz\n",
            "fizz\n",
            "7\n",
            "8\n",
            "fizz\n",
            "Fuzz\n",
            "11\n",
            "fizz\n",
            "13\n",
            "14\n",
            "fizzbuzz\n",
            "16\n",
            "17\n",
            "fizz\n",
            "19\n",
            "Fuzz\n",
            "fizz\n",
            "22\n",
            "23\n",
            "fizz\n",
            "Fuzz\n",
            "26\n",
            "fizz\n",
            "28\n",
            "29\n",
            "fizzbuzz\n",
            "31\n",
            "32\n",
            "fizz\n",
            "34\n",
            "Fuzz\n",
            "fizz\n",
            "37\n",
            "38\n",
            "fizz\n",
            "Fuzz\n",
            "41\n",
            "fizz\n",
            "43\n",
            "44\n",
            "fizzbuzz\n",
            "46\n",
            "47\n",
            "fizz\n",
            "49\n"
          ]
        }
      ],
      "source": [
        "for fizzbuzz in range(1,50):\n",
        "    if fizzbuzz % 15 == 0:\n",
        "        print(\"fizzbuzz\")\n",
        "        continue\n",
        "    elif fizzbuzz % 3 ==0:\n",
        "        print(\"fizz\")\n",
        "        continue\n",
        "    elif fizzbuzz % 5 ==0:\n",
        "        print(\"Fuzz\")\n",
        "        continue\n",
        "    print(fizzbuzz)\n"
      ]
    },
    {
      "cell_type": "markdown",
      "source": [
        "Write a program that computes the net amount of a bank account based on a transaction log from console input. The transaction log / sample input is in the format as shown below:\n",
        "\n",
        "\n",
        "\n",
        "Input\n",
        "\n",
        "log_message = D:100 W:10\n",
        "\n",
        "Output\n",
        "\n",
        "90\n",
        "\n",
        "Input\n",
        "\n",
        "Log_message = D:100 W:200 D:400\n",
        "\n",
        "Output\n",
        "\n",
        "300 (100 - 200 + 400 = 300)\n"
      ],
      "metadata": {
        "id": "p-Z9oGbHr8KT"
      }
    },
    {
      "cell_type": "code",
      "source": [
        "Total_Deposit=0\n",
        "Total_Withdraw=0\n",
        "count=0\n",
        "Temp_deposit=\"\"\n",
        "Temp_Withdraw=\"\"\n",
        "\n",
        "log_message=input(\"log_message=\") \n",
        "for i in log_message:\n",
        "    if i=='D':\n",
        "        D=log_message[count+2:]\n",
        "        for dep in D:\n",
        "            if dep!=':' and dep!=' ':\n",
        "                Temp_deposit=Temp_deposit+dep\n",
        "            else:\n",
        "                break\n",
        "        Total_Deposit=Total_Deposit+int(Temp_deposit)\n",
        "        Temp_deposit=\"\"\n",
        "    elif i=='W':\n",
        "        W=log_message[count+2:]\n",
        "        for WD in W:\n",
        "            if WD!=':' and WD!=' ':\n",
        "                Temp_Withdraw=Temp_Withdraw+WD\n",
        "            else:\n",
        "                break\n",
        "        Total_Withdraw=Total_Withdraw+int(Temp_Withdraw)\n",
        "        Temp_Withdraw=\"\"\n",
        "    count+=1\n",
        "print(Total_Deposit-Total_Withdraw)\n"
      ],
      "metadata": {
        "colab": {
          "base_uri": "https://localhost:8080/"
        },
        "id": "lNClOq9Dwccf",
        "outputId": "5413fb47-751b-4961-ae4a-11d443441be2"
      },
      "execution_count": 2,
      "outputs": [
        {
          "output_type": "stream",
          "name": "stdout",
          "text": [
            "log_message=D:100 W:200 D:400\n",
            "300\n"
          ]
        }
      ]
    },
    {
      "cell_type": "markdown",
      "source": [
        "Problem Statement 03\n",
        "Max Score: 20\n",
        "\n",
        "BACK TO ASSIGNMENT\n",
        "Language Fundamentals\n",
        "\n",
        "Hands-on Assignment Problem Statement 03\n",
        "\n",
        "\n",
        "\n",
        "Write a program that prompts the user to input number of calls and calculate the monthly telephone bills as per the following rule:\n",
        "\n",
        "● Minimum Rs. 200 for up to 100 calls.\n",
        "\n",
        "● Plus Rs. 0.60 per call for next 50 calls.\n",
        "\n",
        "● Plus Rs. 0.50 per call for next 50 calls.\n",
        "\n",
        "● Plus Rs. 0.40 per call for any call beyond 200 calls."
      ],
      "metadata": {
        "id": "Zq_83eu2w3dw"
      }
    },
    {
      "cell_type": "code",
      "source": [
        "num_call=int(input(\"Enter Number of calls:\"))\n",
        "\n",
        "if num_call > 200:\n",
        "    print(\"Monthly Telephone Bill for\",num_call,\"calls is Rs.\",(200+(50*0.60)+(50*0.50)+(num_call-200)*0.40))\n",
        "elif num_call > 150:\n",
        "    print(\"Monthly Telephone Bill for\",num_call,\"calls is Rs.\",(200+(50*0.60)+(num_call-150)*0.50))\n",
        "elif num_call > 100:\n",
        "    print(\"Monthly Telephone Bill for\",num_call,\"calls is Rs.\",(200+(num_call-100)*0.60))\n",
        "else:\n",
        "    print(\"Monthly Telephone Bill for\",num_call,\"calls is Rs. 200\")"
      ],
      "metadata": {
        "colab": {
          "base_uri": "https://localhost:8080/"
        },
        "id": "3ak8qDqtw2LW",
        "outputId": "bd03d8fa-16e9-466a-c175-12bd413e51fa"
      },
      "execution_count": 3,
      "outputs": [
        {
          "output_type": "stream",
          "name": "stdout",
          "text": [
            "Enter Number of calls:201\n",
            "Monthly Telephone Bill for 201 calls is Rs. 255.4\n"
          ]
        }
      ]
    }
  ]
}